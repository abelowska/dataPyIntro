{
  "cells": [
    {
      "cell_type": "markdown",
      "metadata": {
        "id": "view-in-github",
        "colab_type": "text"
      },
      "source": [
        "<a href=\"https://colab.research.google.com/github/abelowska/eegML-excercises/blob/main/Classes_01_Introduction.ipynb\" target=\"_parent\"><img src=\"https://colab.research.google.com/assets/colab-badge.svg\" alt=\"Open In Colab\"/></a>"
      ]
    },
    {
      "cell_type": "markdown",
      "metadata": {
        "id": "iE9hRb9YaStu"
      },
      "source": [
        "# Introduction to \"Doing Science\" in Python for REAL Beginners "
      ]
    },
    {
      "cell_type": "markdown",
      "metadata": {
        "id": "V2mknWPeaStv"
      },
      "source": [
        "Python is one of many languages you can use for research and homework purposes. In the next few days, we will work through many of the tool, tips, and tricks that we as graduate students (and PhD researchers) use on a daily basis. We will NOT attempt to teach you all of Python as there isn't time. We will however build up a set of code(s) that will allow you to read and write data, make beautiful publish-worthy plots, fit a line (or any function) to data, and set up algorithms. You will also begin to learn the syntax of Python and can hopefuly apply this knowledge to your current and future work. "
      ]
    },
    {
      "cell_type": "markdown",
      "metadata": {
        "id": "9CjY3IfPaStv"
      },
      "source": [
        "## Before we begin, a few words on navigating the iPython Notebook:\n",
        "\n",
        "* There are two main types of cells : Code and Text \n",
        "* In \"code\" cells \"#\" at the beginning of a line marks the line as comment\n",
        "* In \"code\" cells every non-commented line is intepreted\n",
        "* In \"code\" cells, commands that are preceded by % are \"magics\" and are special commands in IPython to add some functionality to the runtime interactive environment.\n",
        "* Shift+Return shortcut to execute a cell\n",
        "* Alt+Return (Option+Return on Macs)  shortcut to execute a cell and create another one below\n",
        "\n",
        "Here you can find a complete documentation about the notebook. \n",
        "http://ipython.org/ipython-doc/1/interactive/notebook.html\n",
        "In particular have a look at the section about the keyboard shortcuts. You can also access the keyboard\n",
        "shortcuts from the $\\textbf{Help}$ menu above.\n",
        "\n",
        "\n",
        "## And remember that :\n",
        "* Indentation has a meaning (we'll talk about this when we cover loops)\n",
        "* Indexing starts from 0 \n",
        "\n",
        "We will discuss more about these concepts while doing things. Let's get started now!!!!"
      ]
    },
    {
      "cell_type": "markdown",
      "metadata": {
        "id": "OhRgb9awaStw"
      },
      "source": [
        "## A. Numbers, Calculations, and Lists"
      ]
    },
    {
      "cell_type": "markdown",
      "metadata": {
        "collapsed": true,
        "id": "CCoruS1waStw"
      },
      "source": [
        "Before we start coding, let's play around with the Jupyter environment. Make a new cell below using the Alt+Return shortcut."
      ]
    },
    {
      "cell_type": "code",
      "execution_count": null,
      "metadata": {
        "id": "ate1bWfxaStw"
      },
      "outputs": [],
      "source": []
    },
    {
      "cell_type": "code",
      "source": [],
      "metadata": {
        "id": "ALrM7ys-acxF"
      },
      "execution_count": null,
      "outputs": []
    },
    {
      "cell_type": "markdown",
      "metadata": {
        "id": "nBIdMY_LaStx"
      },
      "source": [
        "Take your newly created cell and write something in it. Switch the type of the cell between a **code** cell and a **text/markdown** cell by using the selection box in the top of the screen. See how it changes?"
      ]
    },
    {
      "cell_type": "markdown",
      "metadata": {
        "id": "YYEDZVvGaStx"
      },
      "source": [
        "Insert a comment to yourself (this is always a great idea) by using the # symbol."
      ]
    },
    {
      "cell_type": "code",
      "execution_count": null,
      "metadata": {
        "id": "POujgWyLaStx"
      },
      "outputs": [],
      "source": [
        "## You can use Python as a calculator:\n",
        "5*7  #This is a comment and does not affect your code.\n",
        "#You can have as many as you want. \n",
        "#Comments help explain your code to others and yourself.\n",
        "#No worries. "
      ]
    },
    {
      "cell_type": "code",
      "execution_count": null,
      "metadata": {
        "id": "n9JNc709aSty"
      },
      "outputs": [],
      "source": [
        "5+7"
      ]
    },
    {
      "cell_type": "code",
      "execution_count": null,
      "metadata": {
        "id": "NJn9TVhZaSty"
      },
      "outputs": [],
      "source": [
        "5-7"
      ]
    },
    {
      "cell_type": "code",
      "execution_count": null,
      "metadata": {
        "id": "T3u_WIKxaStz"
      },
      "outputs": [],
      "source": [
        "5/7"
      ]
    },
    {
      "cell_type": "markdown",
      "metadata": {
        "id": "mYAtNjr5aStz"
      },
      "source": [
        "Unfortunately, the output of your calculations won't be saved anywhere, so you can't use them later in your code. \n",
        "\n",
        "There's a way to get around this: by assigning them to variables. A variable is a way of referring to a memory location used by a computer program that can contain values, text, or even more complicated types. Think of variables as containers to store something so you can use or change it later. Variables can be a single letter (like x or y) but they are usually more helpful when they have descriptive names (like age, stars, total_sum). You want to have a descriptive variable name (so you don't have to keep looking up what it is) but also one that is not a pain to type repeatedly.\n",
        "\n",
        "Let's assign some variables and `print()` them to the screen."
      ]
    },
    {
      "cell_type": "code",
      "execution_count": null,
      "metadata": {
        "id": "pgAPWrXxaStz"
      },
      "outputs": [],
      "source": [
        "a = 10\n",
        "b = 7"
      ]
    },
    {
      "cell_type": "code",
      "execution_count": null,
      "metadata": {
        "id": "M-vlHL90aStz"
      },
      "outputs": [],
      "source": [
        "print(a)"
      ]
    },
    {
      "cell_type": "code",
      "execution_count": null,
      "metadata": {
        "id": "Eo9KeYZfaSt0"
      },
      "outputs": [],
      "source": [
        "print(b)"
      ]
    },
    {
      "cell_type": "code",
      "execution_count": null,
      "metadata": {
        "id": "ZNU9zKgmaSt0"
      },
      "outputs": [],
      "source": [
        "print(a*b , a+b, a/b)"
      ]
    },
    {
      "cell_type": "markdown",
      "metadata": {
        "id": "1jp2izcraSt0"
      },
      "source": [
        "You can also write over variables with new values, but your previous values will be gone."
      ]
    },
    {
      "cell_type": "code",
      "execution_count": null,
      "metadata": {
        "id": "87Qt4hwsaSt0"
      },
      "outputs": [],
      "source": [
        "a = 5\n",
        "b = 7\n",
        "print(a*b, a+b, a/b)"
      ]
    },
    {
      "cell_type": "markdown",
      "metadata": {
        "id": "mYWemv9GaSt1"
      },
      "source": [
        "Next, let's create a list of numbers. A list is a way to store items in a group."
      ]
    },
    {
      "cell_type": "code",
      "execution_count": null,
      "metadata": {
        "id": "lBmuhDthaSt1"
      },
      "outputs": [],
      "source": [
        "numList = [0,1,2,3,4,5,6,7,8,9]\n",
        "print(numList)"
      ]
    },
    {
      "cell_type": "markdown",
      "metadata": {
        "id": "zv6CdngJaSt1"
      },
      "source": [
        "How many elements or numbers does the list numList contain? Yes, this is easy to count now, but you will eventually work with lists that contains MANY items. To get the **length** of a list, use `len()`."
      ]
    },
    {
      "cell_type": "code",
      "execution_count": null,
      "metadata": {
        "id": "AY3535JUaSt1"
      },
      "outputs": [],
      "source": [
        "L = len(numList)\n",
        "print(L)"
      ]
    },
    {
      "cell_type": "markdown",
      "metadata": {
        "id": "1yMZ8rPtaSt1"
      },
      "source": [
        "You can also access particular elements in an array by _indexing_. The syntax for this is the following:\n",
        "> `numList[index_number]`\n",
        "\n",
        "This will return the value in the list that corresponds to the index number.\n",
        "\n",
        "Arrays are numbered starting from 0, such that\n",
        "\n",
        "* First position = 0 (or 0th item)\n",
        "* Second position = 1\n",
        "* Third position = 2\n",
        "* etc.\n",
        "\n",
        "It is a bit confusing, but after a bit of time, this becomes quite natural.\n",
        "For example, getting the 4th item in the list you would need to type:\n",
        "> `numList[3]`\n",
        "\n",
        "Try accessing elements of the list you just created:\n"
      ]
    },
    {
      "cell_type": "code",
      "execution_count": null,
      "metadata": {
        "id": "u_UjQoHQaSt2"
      },
      "outputs": [],
      "source": [
        "# Insert your code below:\n"
      ]
    },
    {
      "cell_type": "markdown",
      "metadata": {
        "id": "7l_1EZvvaSt2"
      },
      "source": [
        "How would you access the number 5 in `numList`?"
      ]
    },
    {
      "cell_type": "code",
      "execution_count": null,
      "metadata": {
        "id": "0rBXoSXUaSt2"
      },
      "outputs": [],
      "source": [
        "# Insert your code below:\n"
      ]
    },
    {
      "cell_type": "markdown",
      "metadata": {
        "id": "khJcFtpLaSt2"
      },
      "source": [
        "Let's try making more complicated list:"
      ]
    },
    {
      "cell_type": "code",
      "execution_count": null,
      "metadata": {
        "id": "JWvnNZ2FaSt2"
      },
      "outputs": [],
      "source": [
        "fibList = [1, 1, 2, 3, 5, 8, 13, 21, 34, 55]"
      ]
    },
    {
      "cell_type": "code",
      "execution_count": null,
      "metadata": {
        "id": "7f-_-uSYaSt3"
      },
      "outputs": [],
      "source": [
        "fibList[5]"
      ]
    },
    {
      "cell_type": "markdown",
      "metadata": {
        "id": "0jNkkSK5aSt3"
      },
      "source": [
        "Now let's say you create a list of numbers, but later on you want to add more numbers to the list. We can do that! We can quite literally _add_ them to the list like so:"
      ]
    },
    {
      "cell_type": "code",
      "execution_count": null,
      "metadata": {
        "id": "gJ_TJXpsaSt3"
      },
      "outputs": [],
      "source": [
        "addList = [1, 1, 5, 4, 6, 7, 3, 2, 8]\n",
        "print(addList)\n",
        "\n",
        "# Now let's add some new numbers to the list\n",
        "addList = addList + [4, 3, 2, 6]\n",
        "print(addList)"
      ]
    },
    {
      "cell_type": "markdown",
      "metadata": {
        "id": "q0zCHVgNaSt3"
      },
      "source": [
        "See how the list changed to now include the new numbers?\n",
        "\n",
        "Now you know the basics of Python, let's see how it can be used as a graphing calculator"
      ]
    },
    {
      "cell_type": "markdown",
      "metadata": {
        "id": "_aycOfQraSt4"
      },
      "source": [
        "## B. Our first plot! "
      ]
    },
    {
      "cell_type": "markdown",
      "metadata": {
        "id": "2ymIUMETaSt5"
      },
      "source": [
        "Python is a fantastic language because it is very powerful and flexible. It is like modular furniture or a modular building. You have the Python foundation and choose which modules you want/need and load them before you start working. One of the most loved here at UMD is the  _matplotlib_ (https://matplotlib.org/), which provides lots of functionality for making beautiful, publishable plots."
      ]
    },
    {
      "cell_type": "code",
      "execution_count": null,
      "metadata": {
        "id": "raEImabPaSt5"
      },
      "outputs": [],
      "source": [
        "# Run this code\n",
        "%matplotlib inline  \n",
        "# this \"magic\" command puts the plots right in the jupyter notebook\n",
        "import matplotlib "
      ]
    },
    {
      "cell_type": "markdown",
      "metadata": {
        "id": "LcQq2Q_eaSt5"
      },
      "source": [
        "When using modules (also sometimes called _libraries_ or _packages_ ) you can use a nickname through the __as__ keyword so you don't have to type the long module name every time. For example, ``matplotlib.pyplot`` is typically shortened to ``plt`` like below. "
      ]
    },
    {
      "cell_type": "code",
      "execution_count": null,
      "metadata": {
        "id": "zGTGsMOWaSt6"
      },
      "outputs": [],
      "source": [
        "# Run this code\n",
        "import matplotlib.pyplot as plt"
      ]
    },
    {
      "cell_type": "markdown",
      "metadata": {
        "id": "zjl9LSTGaSt6"
      },
      "source": [
        "Now let's do a quick simple plot using the list we defined earlier!"
      ]
    },
    {
      "cell_type": "code",
      "execution_count": null,
      "metadata": {
        "id": "bZHgkuyKaSt6"
      },
      "outputs": [],
      "source": [
        "x = numList\n",
        "y = numList\n",
        "\n",
        "p = plt.plot(x, y)"
      ]
    },
    {
      "cell_type": "markdown",
      "metadata": {
        "id": "iylIR_taaSt6"
      },
      "source": [
        "You can change a lot of attributes about plots, like the style of the line, the color, and the thickness of the line. You can add titles, axis labels, and legends. You can also put more than one line on the same plot. This link includes all the ways you can modify plots: https://matplotlib.org/api/_as_gen/matplotlib.pyplot.plot.html.\n",
        "\n",
        "Let's take a quick look at the stuff we can find in the matplotlib documentation, as it can be a little overwhelming to navigate.\n",
        "\n",
        "Here is a quick example showing a few of the things you can do with _matplotlib_:"
      ]
    },
    {
      "cell_type": "code",
      "execution_count": null,
      "metadata": {
        "id": "zcyCMDwGaSt7"
      },
      "outputs": [],
      "source": [
        "# Clear the plotting field. \n",
        "plt.clf() # No need to add anything inside these parentheses. \n",
        "\n",
        "# First line\n",
        "plt.plot(x, y, color='blue', linestyle='-', linewidth=1, label='num')\n",
        "\n",
        "# Second line\n",
        "z = fibList\n",
        "# you can shorten the keywords like \"color\" to be just \"c\" for quicker typing\n",
        "plt.plot(x, z, c='r', ls='--', lw=3, label='fib')\n",
        "\n",
        "# add the labels and titles\n",
        "plt.xlabel('x values')\n",
        "plt.ylabel('y values')\n",
        "plt.title('My First Plot')\n",
        "plt.legend(loc='best')\n",
        "\n",
        "#Would you like to save your plot? Uncomment the below line. Here, we use savefig('nameOffigure')\n",
        "#It should save to the folder you are currently working out of.\n",
        "#plt.savefig('MyFirstFigure.jpg')"
      ]
    },
    {
      "cell_type": "markdown",
      "metadata": {
        "id": "xJHGdpq8aSt7"
      },
      "source": [
        "### EXERCISE 1: \n",
        "\n",
        "Create two lists of numbers: `list1` will be the integers from 0 to 9 and `list2` will be the elements of `list1` squared. \n",
        "\n",
        "Plot the two lists with _matplotlib_ and make some changes to the color, linestyle, or linewidth. \n",
        "\n",
        "Add labels, a title, and a legend to your plot. \n",
        "\n",
        "Save the plot once you are done. \n",
        "\n",
        "Be creative and feel free to look up the different linestyles using the link above. "
      ]
    },
    {
      "cell_type": "code",
      "execution_count": null,
      "metadata": {
        "id": "E0d6CB7-aSt7"
      },
      "outputs": [],
      "source": [
        "# Insert your code below:\n"
      ]
    },
    {
      "cell_type": "markdown",
      "metadata": {
        "id": "EzpoK_JMaSt8"
      },
      "source": [
        "## C. Logic, If/Else, and Loops\n",
        "\n",
        "Let's now switch gears a bit and discuss logic in Python. Conditional (logic) statements form the backbone of programming. These statements in Python return either **True** or **False** and have a special name in programming: _Booleans_. Sometimes this type of logic is also called _Boolean logic_. "
      ]
    },
    {
      "cell_type": "code",
      "execution_count": null,
      "metadata": {
        "id": "aN82Kl5NaSt8"
      },
      "outputs": [],
      "source": [
        "#Example conditional statements\n",
        "x = 1\n",
        "y = 2\n",
        "x < y #x is less than y"
      ]
    },
    {
      "cell_type": "markdown",
      "metadata": {
        "id": "UtiN1W38aSt8"
      },
      "source": [
        "Think of the statement $x<y$ as asking the question \"is x less than y?\" If it is, then it returns **True** and if x is not less than y it returns **False**. "
      ]
    },
    {
      "cell_type": "code",
      "execution_count": null,
      "metadata": {
        "id": "h8fSoxnbaSt8"
      },
      "outputs": [],
      "source": [
        "#x is greater than y\n",
        "x > y"
      ]
    },
    {
      "cell_type": "code",
      "execution_count": null,
      "metadata": {
        "id": "pwPVK8ekaSt8"
      },
      "outputs": [],
      "source": [
        "#x is less-than or equal to y\n",
        "x <= y"
      ]
    },
    {
      "cell_type": "code",
      "execution_count": null,
      "metadata": {
        "id": "521yad0waSt9"
      },
      "outputs": [],
      "source": [
        "#x is greater-than or equal to y\n",
        "x >= y"
      ]
    },
    {
      "cell_type": "markdown",
      "metadata": {
        "id": "MlNkP13-aSt9"
      },
      "source": [
        "If you let a and b be conditional statements (like the above statements, e.g. a = x < y), then you can combine the two together using logical operators, which can be thought of as functions for conditional statements.\n",
        "\n",
        "There are three logical operators that are handy to know:\n",
        "\n",
        "* **And** operator:  **`a and b`**\n",
        "    - outputs True only if both a and b are True\n",
        "* **Or** operator: **`a or b`**\n",
        "    - outputs True if at least one of a and b are True\n",
        "* **Not** operator: **`not(a)`**\n",
        "    - outputs the negation of a "
      ]
    },
    {
      "cell_type": "code",
      "execution_count": null,
      "metadata": {
        "id": "1nCn4DOZaSt9"
      },
      "outputs": [],
      "source": [
        "#Example of and operator\n",
        "(1 < 2) and (2 < 3)"
      ]
    },
    {
      "cell_type": "code",
      "execution_count": null,
      "metadata": {
        "id": "l2MJOvqWaSt9"
      },
      "outputs": [],
      "source": [
        "#Example of or operator\n",
        "(1 < 2) or (2 > 3)"
      ]
    },
    {
      "cell_type": "code",
      "execution_count": null,
      "metadata": {
        "id": "SMMTaVRraSt9"
      },
      "outputs": [],
      "source": [
        "#Example of not operator\n",
        "not(1 < 2)"
      ]
    },
    {
      "cell_type": "markdown",
      "metadata": {
        "id": "wZmNm3jdaSt9"
      },
      "source": [
        "Now, these might not seem especially useful at first, but they're the bread and butter of programming. Even more importantly, they are used when we are doing if/else statements or loops, which we will now cover.\n",
        "\n",
        "An `if/else` statement (or simply an if statement) are segments of code that have a conditional statement built into it, such that the code within that segment doesn't activate unless the conditional statement is true.\n",
        "\n",
        "Here's an example. Play around with the variables x and y to see what happens."
      ]
    },
    {
      "cell_type": "code",
      "execution_count": null,
      "metadata": {
        "id": "VWs2TEDnaSt-"
      },
      "outputs": [],
      "source": [
        "x = 1\n",
        "y = 2\n",
        "if (x < y):\n",
        "    print(\"Yup, totally true!\")\n",
        "else:\n",
        "    print(\"Nope, completely wrong!\")"
      ]
    },
    {
      "cell_type": "markdown",
      "metadata": {
        "id": "QEibZTmcaSt-"
      },
      "source": [
        "The idea here is that Python checks to see if the statement (in this case \"x < y\") is **True**. If it is, then it will do what is below the if statement. The else statement tells Python what to do if the condition is **False**.\n",
        "\n",
        "Note that Python requires you to indent these segments of code, and WILL NOT like it if you don't. Some languages don't require it, but Python is very particular when it comes to this point. (The parentheses around the conditional statement, however, are optional.)\n",
        "\n",
        "You also do not always need an \"else\" segment, which effectively means that if the condition isn't **True**, then that segment of code doesn't do anything, and Python will just continue on past the if statement.\n",
        "\n",
        "Here is an example of such a case.  Play around with it to see what happens when you change the values of x and y."
      ]
    },
    {
      "cell_type": "code",
      "execution_count": null,
      "metadata": {
        "id": "pEziY1zIaSt-"
      },
      "outputs": [],
      "source": [
        "x = 2\n",
        "y = 1\n",
        "if (x > y):\n",
        "    print(\"x is greater than y\")"
      ]
    },
    {
      "cell_type": "markdown",
      "metadata": {
        "id": "jnNecgkWaSt-"
      },
      "source": [
        "Here's a more complicated case. Here, we introduce some logic that helps you figure out if two objects are equal or not. \n",
        "\n",
        "There's the `==` operator and the `!=` operator. Can you figure out what they mean?"
      ]
    },
    {
      "cell_type": "code",
      "execution_count": null,
      "metadata": {
        "id": "wJSGCEuBaSt-"
      },
      "outputs": [],
      "source": [
        "x = 2\n",
        "y = 2\n",
        "if (x == y):\n",
        "    print(\"x and y are equal\")\n",
        "if (x != y):\n",
        "    print(\"x and y are not equal\")\n",
        "if (x > y or x < y):\n",
        "    print(\"x and y are not equal (again!)\")"
      ]
    },
    {
      "cell_type": "markdown",
      "metadata": {
        "id": "dpk8WryiaSt-"
      },
      "source": [
        "### Loops\n",
        "While-loops are similar to if statements, in the sense that they also have a conditional statement built into them. The code inside the loop will execute when the conditional is **True**. And then it will check the conditional again and, if it evaluates to **True**, the code will execute... again. And so on and so forth...\n",
        "\n",
        "The funny thing about while-loops is that they will KEEP executing that segment of code until the conditional statement evaluates to **False**...which hopefully will happen...right?\n",
        "\n",
        "Although this seems a bit strange, you can get the hang of it!\n",
        "\n",
        "For example, let's say we want Python to count from 1 to 10."
      ]
    },
    {
      "cell_type": "code",
      "execution_count": null,
      "metadata": {
        "id": "QeerUYA4aSt_"
      },
      "outputs": [],
      "source": [
        "x = 1\n",
        "while (x <= 10):\n",
        "    print(x)\n",
        "    x = x + 1"
      ]
    },
    {
      "cell_type": "markdown",
      "metadata": {
        "id": "FrFH-H7RaSt_"
      },
      "source": [
        "Note here that we tell Python to print the number x (x starts at 1) and then redefining x as itself +1 (so, x=1 gets redefined to x = x+1 = 1+1 = 2). Python then executes the loop again, but now x has been incremented by 1. We continue this process from x = 1 to x = 10, printing out x every time. Thus, with a fairly compact bit of code, you get 10 lines of output.\n",
        "\n",
        "It is sometimes handy to define what is known as a DUMMY VARIABLE, whose only job is to count the number of times the loop has been executed. Let's call this dummy variable i."
      ]
    },
    {
      "cell_type": "code",
      "execution_count": null,
      "metadata": {
        "id": "-xu7EutoaSt_"
      },
      "outputs": [],
      "source": [
        "x = 2\n",
        "i = 0 #dummy variable\n",
        "while (i<10):\n",
        "    x = 2*x\n",
        "    print(x)\n",
        "    i = i+1"
      ]
    },
    {
      "cell_type": "markdown",
      "metadata": {
        "id": "GJhvoXtfaSt_"
      },
      "source": [
        "Now we want to combine lists with loops! You can use the dummy variable as a way to access a value in the list through its index. In exercise 1 we asked you to square the elements in a given list by hand, let's now do it by using a loop. The setup for the loop is provided below but try completing the code on your own!\n",
        "\n",
        "In Python, the command to square something is ``**``. So `3**2` will give you 9."
      ]
    },
    {
      "cell_type": "code",
      "execution_count": null,
      "metadata": {
        "id": "dzPQbUbwaSt_"
      },
      "outputs": [],
      "source": [
        "myList = [0, 1, 2, 3, 4, 5, 6, 7, 8, 9]\n",
        "# we want to end the loop at the end of the list i.e., the length of the list\n",
        "end = len(myList)\n",
        "\n",
        "# your code here"
      ]
    },
    {
      "cell_type": "markdown",
      "metadata": {
        "id": "wHFaCwTJaSt_"
      },
      "source": [
        "Isn't that much easier than squaring everything by hand? Loops are your friends in programming and will make menial, reptitive tasks go by very quickly. "
      ]
    },
    {
      "cell_type": "markdown",
      "metadata": {
        "id": "X-VrnGZkaSuA"
      },
      "source": [
        "All this information with logic, loops, and lists may be confusing, but you will get the hang of it with practice! And by combining these concepts, your programming in Python can be very powerful. Let's try an example where we use an ``if/then`` nested inside of a loop by finding how many times the number 2 shows up in the following list. Remember that indentation is very important in Python!"
      ]
    },
    {
      "cell_type": "code",
      "execution_count": null,
      "metadata": {
        "id": "gRGmEAimaSuA"
      },
      "outputs": [],
      "source": [
        "twoList = [2, 5, 6, 2, 4, 1, 5, 7, 3, 2, 5, 2]\n",
        "count = 0  # this variable will count up how many times the number 2 appears in the above list\n",
        "end = len(twoList)\n",
        "i = 0\n",
        "\n",
        "while i < end:\n",
        "    if twoList[i] == 2:\n",
        "        count = count + 1\n",
        "        \n",
        "    i = i + 1\n",
        "        \n",
        "print(count)"
      ]
    },
    {
      "cell_type": "markdown",
      "metadata": {
        "id": "vAmdcCTLaSuA"
      },
      "source": [
        "Notice how the indentation is set up. What happens if you indent the print statement? How about removing the indentation on the if statement? Play around with it so you get the hang of indentation in nested code. \n",
        "\n",
        "If you are ever lost when writing or understanding a loop, just think through each iteration one by one. Think about how the variables, especially the dummy variables, are changing. Printing them to the screen can also help you figure out any problems you may have. With some more practice, you will be a loop master soon!"
      ]
    },
    {
      "cell_type": "markdown",
      "source": [
        "More intuitive and more frequently used in Python are for-loops. The for-loop in Python is used to iterate over a sequence (list, tuple, string) or other iterable objects. "
      ],
      "metadata": {
        "id": "lmIWUGCMLvoh"
      }
    },
    {
      "cell_type": "code",
      "source": [
        "# List of numbers\n",
        "numbers = [6, 5, 3, 8, 4, 2, 5, 4, 11]\n",
        "\n",
        "# variable to store the sum\n",
        "sum = 0\n",
        "\n",
        "# iterate over the list\n",
        "for val in numbers:\n",
        "    sum = sum+val\n",
        "\n",
        "print(\"The sum is\", sum)"
      ],
      "metadata": {
        "id": "VVt1W9ulMN7t"
      },
      "execution_count": null,
      "outputs": []
    },
    {
      "cell_type": "markdown",
      "source": [
        "One can also iterate n-times defining a specific range:"
      ],
      "metadata": {
        "id": "OBJrmJP3Mlyx"
      }
    },
    {
      "cell_type": "code",
      "source": [
        "for item in range(0,10):\n",
        "  print(item)"
      ],
      "metadata": {
        "id": "0TFqAXkTMWAj"
      },
      "execution_count": null,
      "outputs": []
    },
    {
      "cell_type": "markdown",
      "source": [
        "Remember, in Python (and many other programming languages) `Strings` are `Arrays`."
      ],
      "metadata": {
        "id": "Wtt-KO1ZNIXa"
      }
    },
    {
      "cell_type": "code",
      "source": [
        "h_letters = []\n",
        "\n",
        "for letter in 'human':\n",
        "    h_letters.append(letter)\n",
        "\n",
        "print(h_letters)"
      ],
      "metadata": {
        "id": "QDw8lTlAM0G_"
      },
      "execution_count": null,
      "outputs": []
    },
    {
      "cell_type": "markdown",
      "source": [
        "However, Python has an easier way to itarate through the lists using **List Comprehension**. List comprehension is an elegant way to define and create lists based on existing lists."
      ],
      "metadata": {
        "id": "Asmyrse7NWR8"
      }
    },
    {
      "cell_type": "code",
      "source": [
        "h_letters = [ letter for letter in 'human' ]\n",
        "print( h_letters)"
      ],
      "metadata": {
        "id": "GBcmY_k1NGqp"
      },
      "execution_count": null,
      "outputs": []
    },
    {
      "cell_type": "code",
      "source": [
        "values = range(0,10)\n",
        "\n",
        "squared_values = [value**2 for value in values]\n",
        "squared_values"
      ],
      "metadata": {
        "id": "GLnCknPMNjvP"
      },
      "execution_count": null,
      "outputs": []
    },
    {
      "cell_type": "markdown",
      "source": [
        "However, not every loop can be rewritten as list comprehension. But as you learn and get comfortable with list comprehensions, you will find yourself replacing more and more loops with this elegant syntax."
      ],
      "metadata": {
        "id": "5EkVyCo-ODzB"
      }
    }
  ],
  "metadata": {
    "colab": {
      "collapsed_sections": [],
      "provenance": [],
      "toc_visible": true,
      "include_colab_link": true
    },
    "kernelspec": {
      "display_name": "Python 3",
      "language": "python",
      "name": "python3"
    },
    "language_info": {
      "codemirror_mode": {
        "name": "ipython",
        "version": 3
      },
      "file_extension": ".py",
      "mimetype": "text/x-python",
      "name": "python",
      "nbconvert_exporter": "python",
      "pygments_lexer": "ipython3",
      "version": "3.8.5"
    }
  },
  "nbformat": 4,
  "nbformat_minor": 0
}